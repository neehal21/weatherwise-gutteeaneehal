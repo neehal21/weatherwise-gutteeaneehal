{
  "cells": [
    {
      "cell_type": "markdown",
      "metadata": {
        "id": "view-in-github"
      },
      "source": [
        "<a href=\"https://colab.research.google.com/github/michael-borck/weatherwise-template/blob/main/starter_notebook.ipynb\" target=\"_parent\"><img src=\"https://colab.research.google.com/assets/colab-badge.svg\" alt=\"Open In Colab\"/></a>"
      ],
      "id": "view-in-github"
    },
    {
      "cell_type": "markdown",
      "id": "72e78a05",
      "metadata": {
        "id": "72e78a05"
      },
      "source": [
        "# 🌦️ WeatherWise – Starter Notebook\n",
        "\n",
        "Welcome to your **WeatherWise** project notebook! This scaffold is designed to help you build your weather advisor app using Python, visualisations, and AI-enhanced development.\n",
        "\n",
        "---\n",
        "\n",
        "📄 **Full Assignment Specification**  \n",
        "See [`ASSIGNMENT.md`](ASSIGNMENT.md) or check the LMS for full details.\n",
        "\n",
        "📝 **Quick Refresher**  \n",
        "A one-page summary is available in [`resources/assignment-summary.md`](resources/assignment-summary.md).\n",
        "\n",
        "---\n",
        "\n",
        "🧠 **This Notebook Structure is Optional**  \n",
        "You’re encouraged to reorganise, rename sections, or remove scaffold cells if you prefer — as long as your final version meets the requirements.\n",
        "\n",
        "✅ You may delete this note before submission.\n",
        "\n"
      ]
    },
    {
      "cell_type": "markdown",
      "id": "fa8c7f6c",
      "metadata": {
        "id": "fa8c7f6c"
      },
      "source": [
        "## 🧰 Setup and Imports\n",
        "\n",
        "This section imports commonly used packages and installs any additional tools used in the project.\n",
        "\n",
        "- You may not need all of these unless you're using specific features (e.g. visualisations, advanced prompting).\n",
        "- The notebook assumes the following packages are **pre-installed** in the provided environment or installable via pip:\n",
        "  - `requests`, `matplotlib`, `pyinputplus`\n",
        "  - `fetch-my-weather` (for accessing weather data easily)\n",
        "  - `hands-on-ai` (for AI logging, comparisons, or prompting tools)\n",
        "\n",
        "If you're running this notebook in **Google Colab**, uncomment the following lines to install the required packages.\n"
      ]
    },
    {
      "cell_type": "code",
      "execution_count": null,
      "id": "70c3f3f1",
      "metadata": {
        "id": "70c3f3f1"
      },
      "outputs": [],
      "source": [
        "# 🧪 Optional packages — uncomment if needed in Colab or JupyterHub\n",
        "!pip install fetch-my-weather\n",
        "!pip install hands-on-ai\n"
      ]
    },
    {
      "cell_type": "code",
      "source": [
        "import os\n",
        "\n",
        "# Set the URL of the custom AI server\n",
        "os.environ['HANDS_ON_AI_SERVER'] = 'http://ollama.serveur.au'\n",
        "\n",
        "# Specify the AI model to use\n",
        "os.environ['HANDS_ON_AI_MODEL'] = 'granite3.2'\n",
        "\n",
        "# Prompt the user to enter their API key and store it in the environment\n",
        "os.environ['HANDS_ON_AI_API_KEY'] = input('Enter your API key: ')\n"
      ],
      "metadata": {
        "id": "B2JKlJfrGgIb"
      },
      "id": "B2JKlJfrGgIb",
      "execution_count": null,
      "outputs": []
    },
    {
      "cell_type": "code",
      "source": [],
      "metadata": {
        "id": "MJS-UgGBYEZW"
      },
      "id": "MJS-UgGBYEZW",
      "execution_count": null,
      "outputs": []
    },
    {
      "cell_type": "markdown",
      "id": "59ae7543",
      "metadata": {
        "id": "59ae7543"
      },
      "source": [
        "## 📦 Setup and Configuration\n",
        "Import required packages and setup environment."
      ]
    },
    {
      "cell_type": "code",
      "execution_count": null,
      "id": "f1dd051e",
      "metadata": {
        "id": "f1dd051e"
      },
      "outputs": [],
      "source": [
        "import requests\n",
        "import matplotlib.pyplot as plt\n",
        "import pyinputplus as pyip\n",
        "# ✅ Import after installing (if needed)\n",
        "from fetch_my_weather import get_weather\n",
        "from hands_on_ai.chat import get_response\n",
        "\n",
        "# Add any other setup code here"
      ]
    },
    {
      "cell_type": "markdown",
      "id": "f736ade3",
      "metadata": {
        "id": "f736ade3"
      },
      "source": [
        "## 🌤️ Weather Data Functions"
      ]
    },
    {
      "cell_type": "code",
      "execution_count": null,
      "id": "7a2c7cd0",
      "metadata": {
        "id": "7a2c7cd0"
      },
      "outputs": [],
      "source": [
        "# Define get_weather_data() function here\n",
        "import requests\n",
        "def get_weather_data(location, forecast_days=5):\n",
        "    \"\"\"\n",
        "    Retrieve weather data for a specified location.\n",
        "\n",
        "    Args:\n",
        "        location (str): City or location name\n",
        "        forecast_days (int): Number of days to forecast (1-5)\n",
        "\n",
        "    Returns:\n",
        "        dict: Weather data including current conditions and forecast\n",
        "    \"\"\"\n",
        "    if not (1 <= forecast_days <= 5):\n",
        "        raise ValueError(\"forecast_days must be between 1 and 5\")\n",
        "\n",
        "    # Step 1: Geocoding to get latitude and longitude\n",
        "    geocode_url = f\"https://geocoding-api.open-meteo.com/v1/search?name={location}&count=1\"\n",
        "    geo_response = requests.get(geocode_url)\n",
        "    geo_data = geo_response.json()\n",
        "\n",
        "    if 'results' not in geo_data or len(geo_data['results']) == 0:\n",
        "        raise ValueError(f\"Could not find location: {location}\")\n",
        "\n",
        "    lat = geo_data['results'][0]['latitude']\n",
        "    lon = geo_data['results'][0]['longitude']\n",
        "\n",
        "    # Step 2: Get weather forecast\n",
        "    weather_url = (\n",
        "        f\"https://api.open-meteo.com/v1/forecast?latitude={lat}&longitude={lon}\"\n",
        "        f\"&current_weather=true&daily=temperature_2m_max,temperature_2m_min,precipitation_sum\"\n",
        "        f\"&timezone=auto&forecast_days={forecast_days}\"\n",
        "    )\n",
        "\n",
        "    weather_response = requests.get(weather_url)\n",
        "    weather_data = weather_response.json()\n",
        "\n",
        "    return {\n",
        "        \"location\": geo_data['results'][0]['name'],\n",
        "        \"latitude\": lat,\n",
        "        \"longitude\": lon,\n",
        "        \"current_weather\": weather_data.get(\"current_weather\"),\n",
        "        \"daily_forecast\": weather_data.get(\"daily\"),\n",
        "    }\n",
        "    weather = get_weather_data(\"Perth\", forecast_days=3)\n",
        "print(weather)\n",
        "\n"
      ]
    },
    {
      "cell_type": "markdown",
      "id": "8a744fdc",
      "metadata": {
        "id": "8a744fdc"
      },
      "source": [
        "## 📊 Visualisation Functions"
      ]
    },
    {
      "cell_type": "code",
      "execution_count": null,
      "id": "9dc3bf85",
      "metadata": {
        "id": "9dc3bf85"
      },
      "outputs": [],
      "source": [
        "# Define create_temperature_visualisation() and create_precipitation_visualisation() here\n",
        "import matplotlib.pyplot as plt\n",
        "\n",
        "def create_temperature_visualisation(weather_data, output_type='display'):\n",
        "    \"\"\"\n",
        "    Create visualisation of temperature data.\n",
        "\n",
        "    Args:\n",
        "        weather_data (dict): The processed weather data\n",
        "        output_type (str): Either 'display' to show in notebook or 'figure' to return the figure\n",
        "\n",
        "    Returns:\n",
        "        If output_type is 'figure', returns the matplotlib figure object\n",
        "        Otherwise, displays the visualisation in the notebook\n",
        "    \"\"\"\n",
        "    dates = weather_data['daily_forecast']['time']\n",
        "    temp_max = weather_data['daily_forecast']['temperature_2m_max']\n",
        "    temp_min = weather_data['daily_forecast']['temperature_2m_min']\n",
        "\n",
        "    fig, ax = plt.subplots(figsize=(8, 5))\n",
        "    ax.plot(dates, temp_max, label='Max Temperature (°C)', color='red', marker='o')\n",
        "    ax.plot(dates, temp_min, label='Min Temperature (°C)', color='blue', marker='o')\n",
        "\n",
        "    ax.set_title(f\"Temperature Forecast for {weather_data['location']}\")\n",
        "    ax.set_xlabel(\"Date\")\n",
        "    ax.set_ylabel(\"Temperature (°C)\")\n",
        "    ax.legend()\n",
        "    ax.grid(True)\n",
        "\n",
        "    if output_type == 'figure':\n",
        "        return fig\n",
        "    else:\n",
        "        plt.show()\n",
        "\n"
      ]
    },
    {
      "cell_type": "code",
      "source": [
        "\n",
        "\n",
        "    import matplotlib.pyplot as plt\n",
        "\n",
        "def create_precipitation_visualisation(weather_data, output_type='display'):\n",
        "    \"\"\"\n",
        "    Create visualisation of precipitation data.\n",
        "\n",
        "    Args:\n",
        "        weather_data (dict): The processed weather data\n",
        "        output_type (str): Either 'display' to show in notebook or 'figure' to return the figure\n",
        "\n",
        "    Returns:\n",
        "        If output_type is 'figure', returns the matplotlib figure object\n",
        "        Otherwise, displays the visualisation in the notebook\n",
        "    \"\"\"\n",
        "    # Extract the required data\n",
        "    dates = weather_data['daily_forecast']['time']\n",
        "    precipitation = weather_data['daily_forecast']['precipitation_sum']\n",
        "\n",
        "    # Create the plot\n",
        "    fig, ax = plt.subplots(figsize=(8, 5))\n",
        "    ax.bar(dates, precipitation, color='cornflowerblue')\n",
        "\n",
        "    ax.set_title(f\"Precipitation Forecast for {weather_data['location']}\")\n",
        "    ax.set_xlabel(\"Date\")\n",
        "    ax.set_ylabel(\"Precipitation (mm)\")\n",
        "    ax.grid(axis='y', linestyle='--', alpha=0.7)\n",
        "\n",
        "    plt.xticks(rotation=45)\n",
        "\n",
        "    # Return or display the figure\n",
        "    if output_type == 'figure':\n",
        "        return fig\n",
        "    else:\n",
        "        plt.tight_layout()\n",
        "        plt.show()\n",
        "weather_data = get_weather_data(\"Sydney\", forecast_days=3)\n",
        "create_precipitation_visualisation(weather_data)\n"
      ],
      "metadata": {
        "id": "HpOlQylYG5Ho"
      },
      "id": "HpOlQylYG5Ho",
      "execution_count": null,
      "outputs": []
    },
    {
      "cell_type": "markdown",
      "id": "9f95d160",
      "metadata": {
        "id": "9f95d160"
      },
      "source": [
        "## 🤖 Natural Language Processing"
      ]
    },
    {
      "cell_type": "code",
      "execution_count": null,
      "id": "bcc5833e",
      "metadata": {
        "id": "bcc5833e"
      },
      "outputs": [],
      "source": [
        "# Define parse_weather_question() and generate_weather_response() here\n",
        "def parse_weather_question(question):\n",
        "    \"\"\"\n",
        "    Parse a natural language weather question.\n",
        "\n",
        "    Args:\n",
        "        question (str): User's weather-related question\n",
        "\n",
        "    Returns:\n",
        "        dict: Extracted information including location, time period, and weather attribute\n",
        "    \"\"\"\n",
        "    pass"
      ]
    },
    {
      "cell_type": "markdown",
      "id": "0d85225e",
      "metadata": {
        "id": "0d85225e"
      },
      "source": [
        "## 🧭 User Interface"
      ]
    },
    {
      "cell_type": "code",
      "execution_count": null,
      "id": "fa6cb0f6",
      "metadata": {
        "id": "fa6cb0f6"
      },
      "outputs": [],
      "source": [
        "# Define menu functions using pyinputplus or ipywidgets here\n",
        "import pyinputplus as pyip\n",
        "\n",
        "def weather_menu_pyinputplus():\n",
        "    \"\"\"\n",
        "    Command-line menu using pyinputplus to choose a city and forecast range.\n",
        "    \"\"\"\n",
        "    print(\"=== Weather Forecast Menu ===\")\n",
        "    location = pyip.inputStr(prompt=\"Enter location (e.g., Sydney): \")\n",
        "    forecast_days = pyip.inputInt(prompt=\"Enter forecast days (1-5): \", min=1, max=5)\n",
        "\n",
        "    # Retrieve and visualize weather\n",
        "    weather_data = get_weather_data(location, forecast_days)\n",
        "\n",
        "    choice = pyip.inputMenu(['Temperature', 'Precipitation'], numbered=True)\n",
        "    if choice == 'Temperature':\n",
        "        create_temperature_visualisation(weather_data)\n",
        "    elif choice == 'Precipitation':\n",
        "        create_precipitation_visualisation(weather_data)\n"
      ]
    },
    {
      "cell_type": "markdown",
      "id": "d643a53c",
      "metadata": {
        "id": "d643a53c"
      },
      "source": [
        "## 🧩 Main Application Logic"
      ]
    },
    {
      "cell_type": "code",
      "execution_count": null,
      "id": "a9e2e805",
      "metadata": {
        "id": "a9e2e805"
      },
      "outputs": [],
      "source": [
        "# Tie everything together here\n",
        "import requests\n",
        "import matplotlib.pyplot as plt\n",
        "import ipywidgets as widgets\n",
        "from IPython.display import display, clear_output\n",
        "\n",
        "# 1. Get weather data (Open-Meteo API)\n",
        "def get_weather_data(location, forecast_days=5):\n",
        "    if not (1 <= forecast_days <= 5):\n",
        "        raise ValueError(\"forecast_days must be between 1 and 5\")\n",
        "\n",
        "    geocode_url = f\"https://geocoding-api.open-meteo.com/v1/search?name={location}&count=1\"\n",
        "    geo_response = requests.get(geocode_url)\n",
        "    geo_data = geo_response.json()\n",
        "\n",
        "    if 'results' not in geo_data or len(geo_data['results']) == 0:\n",
        "        raise ValueError(f\"Could not find location: {location}\")\n",
        "\n",
        "    lat = geo_data['results'][0]['latitude']\n",
        "    lon = geo_data['results'][0]['longitude']\n",
        "\n",
        "    weather_url = (\n",
        "        f\"https://api.open-meteo.com/v1/forecast?latitude={lat}&longitude={lon}\"\n",
        "        f\"&current_weather=true&daily=temperature_2m_max,temperature_2m_min,precipitation_sum\"\n",
        "        f\"&timezone=auto&forecast_days={forecast_days}\"\n",
        "    )\n",
        "    weather_response = requests.get(weather_url)\n",
        "    weather_data = weather_response.json()\n",
        "\n",
        "    return {\n",
        "        \"location\": geo_data['results'][0]['name'],\n",
        "        \"latitude\": lat,\n",
        "        \"longitude\": lon,\n",
        "        \"current_weather\": weather_data.get(\"current_weather\"),\n",
        "        \"daily_forecast\": weather_data.get(\"daily\"),\n",
        "    }\n",
        "\n",
        "# 2. Temperature visualisation\n",
        "def create_temperature_visualisation(weather_data, output_type='display'):\n",
        "    dates = weather_data['daily_forecast']['time']\n",
        "    temp_max = weather_data['daily_forecast']['temperature_2m_max']\n",
        "    temp_min = weather_data['daily_forecast']['temperature_2m_min']\n",
        "\n",
        "    fig, ax = plt.subplots(figsize=(8, 5))\n",
        "    ax.plot(dates, temp_max, label='Max Temperature (°C)', color='red', marker='o')\n",
        "    ax.plot(dates, temp_min, label='Min Temperature (°C)', color='blue', marker='o')\n",
        "\n",
        "    ax.set_title(f\"Temperature Forecast for {weather_data['location']}\")\n",
        "    ax.set_xlabel(\"Date\")\n",
        "    ax.set_ylabel(\"Temperature (°C)\")\n",
        "    ax.legend()\n",
        "    ax.grid(True)\n",
        "    plt.xticks(rotation=45)\n",
        "    plt.tight_layout()\n",
        "\n",
        "    if output_type == 'figure':\n",
        "        return fig\n",
        "    else:\n",
        "        plt.show()\n",
        "\n",
        "# 3. Precipitation visualisation\n",
        "def create_precipitation_visualisation(weather_data, output_type='display'):\n",
        "    dates = weather_data['daily_forecast']['time']\n",
        "    precipitation = weather_data['daily_forecast']['precipitation_sum']\n",
        "\n",
        "    fig, ax = plt.subplots(figsize=(8, 5))\n",
        "    ax.bar(dates, precipitation, color='cornflowerblue')\n",
        "\n",
        "    ax.set_title(f\"Precipitation Forecast for {weather_data['location']}\")\n",
        "    ax.set_xlabel(\"Date\")\n",
        "    ax.set_ylabel(\"Precipitation (mm)\")\n",
        "    ax.grid(axis='y', linestyle='--', alpha=0.7)\n",
        "    plt.xticks(rotation=45)\n",
        "    plt.tight_layout()\n",
        "\n",
        "    if output_type == 'figure':\n",
        "        return fig\n",
        "    else:\n",
        "        plt.show()\n",
        "\n",
        "# 4. Interactive menu using ipywidgets\n",
        "def weather_menu_ipywidgets():\n",
        "    location_input = widgets.Text(\n",
        "        value='Sydney',\n",
        "        description='Location:',\n",
        "        placeholder='Enter city',\n",
        "        disabled=False\n",
        "    )\n",
        "\n",
        "    forecast_slider = widgets.IntSlider(\n",
        "        value=3,\n",
        "        min=1,\n",
        "        max=5,\n",
        "        step=1,\n",
        "        description='Days:',\n",
        "        continuous_update=False\n",
        "    )\n",
        "\n",
        "    chart_type = widgets.ToggleButtons(\n",
        "        options=['Temperature', 'Precipitation'],\n",
        "        description='Visual:',\n",
        "        button_style=''\n",
        "    )\n",
        "\n",
        "    button = widgets.Button(description=\"Get Forecast\")\n",
        "\n",
        "    output = widgets.Output()\n",
        "\n",
        "    def on_button_clicked(b):\n",
        "        with output:\n",
        "            clear_output()\n",
        "            try:\n",
        "                weather_data = get_weather_data(location_input.value, forecast_slider.value)\n",
        "                if chart_type.value == 'Temperature':\n",
        "                    create_temperature_visualisation(weather_data)\n",
        "                else:\n",
        "                    create_precipitation_visualisation(weather_data)\n",
        "            except Exception as e:\n",
        "                print(f\"Error: {e}\")\n",
        "\n",
        "    button.on_click(on_button_clicked)\n",
        "\n",
        "    display(widgets.VBox([location_input, forecast_slider, chart_type, button, output]))\n",
        "\n",
        "# Run the menu in a Jupyter notebook cell:\n",
        "weather_menu_ipywidgets()\n"
      ]
    },
    {
      "cell_type": "markdown",
      "id": "fde44479",
      "metadata": {
        "id": "fde44479"
      },
      "source": [
        "## 🧪 Testing and Examples"
      ]
    },
    {
      "cell_type": "code",
      "execution_count": null,
      "id": "4e573901",
      "metadata": {
        "id": "4e573901"
      },
      "outputs": [],
      "source": [
        "# Include sample input/output for each function\n",
        "weather = get_weather_data(\"Sydney\", forecast_days=3)\n",
        "print(weather.keys())\n",
        "dict_keys(['location', 'latitude', 'longitude', 'current_weather', 'daily_forecast'])\n",
        "{\n",
        "  'location': 'Sydney',\n",
        "  'latitude': -33.8679,\n",
        "  'longitude': 151.2073,\n",
        "  'current_weather': {\n",
        "    'temperature': 22.3,\n",
        "    'windspeed': 15.2,\n",
        "    'weathercode': 3,\n",
        "    'time': '2025-05-28T10:00'\n",
        "  },\n",
        "  'daily_forecast': {\n",
        "    'time': ['2025-05-28', '2025-05-29', '2025-05-30'],\n",
        "    'temperature_2m_max': [23.5, 24.1, 22.8],\n",
        "    'temperature_2m_min': [15.2, 16.0, 14.7],\n",
        "    'precipitation_sum': [0.0, 1.2, 0.0]\n",
        "  }\n",
        "}\n",
        "create_temperature_visualisation(weather)\n",
        "create_precipitation_visualisation(weather)\n",
        "weather_menu_ipywidgets()\n",
        "\n"
      ]
    },
    {
      "cell_type": "markdown",
      "id": "d2885880",
      "metadata": {
        "id": "d2885880"
      },
      "source": [
        "## 🗂️ AI Prompting Log (Optional)\n",
        "Add markdown cells here summarising prompts used or link to AI conversations in the `ai-conversations/` folder."
      ]
    }
  ],
  "metadata": {
    "language_info": {
      "name": "python"
    },
    "colab": {
      "provenance": []
    }
  },
  "nbformat": 4,
  "nbformat_minor": 5
}